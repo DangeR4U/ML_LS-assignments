{
  "cells": [
    {
      "cell_type": "code",
      "execution_count": 5,
      "metadata": {
        "id": "-zTLHrFCT6KY"
      },
      "outputs": [],
      "source": [
        "import numpy as np\n",
        "import pandas as pd\n",
        "import matplotlib.pyplot as plt\n",
        "\n",
        "# Aim is to predict the marks of students of the test data"
      ]
    },
    {
      "cell_type": "code",
      "execution_count": 6,
      "metadata": {
        "id": "p0KHq8ZgTpU4"
      },
      "outputs": [
        {
          "data": {
            "text/html": [
              "<div>\n",
              "<style scoped>\n",
              "    .dataframe tbody tr th:only-of-type {\n",
              "        vertical-align: middle;\n",
              "    }\n",
              "\n",
              "    .dataframe tbody tr th {\n",
              "        vertical-align: top;\n",
              "    }\n",
              "\n",
              "    .dataframe thead th {\n",
              "        text-align: right;\n",
              "    }\n",
              "</style>\n",
              "<table border=\"1\" class=\"dataframe\">\n",
              "  <thead>\n",
              "    <tr style=\"text-align: right;\">\n",
              "      <th></th>\n",
              "      <th>internet</th>\n",
              "      <th>sex</th>\n",
              "      <th>traveltime</th>\n",
              "      <th>studytime</th>\n",
              "      <th>freetime</th>\n",
              "      <th>absences</th>\n",
              "      <th>age</th>\n",
              "      <th>iq</th>\n",
              "      <th>marks</th>\n",
              "    </tr>\n",
              "  </thead>\n",
              "  <tbody>\n",
              "    <tr>\n",
              "      <th>0</th>\n",
              "      <td>no</td>\n",
              "      <td>M</td>\n",
              "      <td>2</td>\n",
              "      <td>2</td>\n",
              "      <td>5</td>\n",
              "      <td>6</td>\n",
              "      <td>18</td>\n",
              "      <td>118</td>\n",
              "      <td>73.13</td>\n",
              "    </tr>\n",
              "    <tr>\n",
              "      <th>1</th>\n",
              "      <td>yes</td>\n",
              "      <td>M</td>\n",
              "      <td>2</td>\n",
              "      <td>2</td>\n",
              "      <td>2</td>\n",
              "      <td>7</td>\n",
              "      <td>19</td>\n",
              "      <td>107</td>\n",
              "      <td>67.78</td>\n",
              "    </tr>\n",
              "    <tr>\n",
              "      <th>2</th>\n",
              "      <td>yes</td>\n",
              "      <td>M</td>\n",
              "      <td>3</td>\n",
              "      <td>3</td>\n",
              "      <td>3</td>\n",
              "      <td>5</td>\n",
              "      <td>18</td>\n",
              "      <td>108</td>\n",
              "      <td>70.84</td>\n",
              "    </tr>\n",
              "    <tr>\n",
              "      <th>3</th>\n",
              "      <td>no</td>\n",
              "      <td>F</td>\n",
              "      <td>3</td>\n",
              "      <td>3</td>\n",
              "      <td>4</td>\n",
              "      <td>9</td>\n",
              "      <td>17</td>\n",
              "      <td>100</td>\n",
              "      <td>66.68</td>\n",
              "    </tr>\n",
              "    <tr>\n",
              "      <th>4</th>\n",
              "      <td>yes</td>\n",
              "      <td>M</td>\n",
              "      <td>1</td>\n",
              "      <td>4</td>\n",
              "      <td>3</td>\n",
              "      <td>4</td>\n",
              "      <td>19</td>\n",
              "      <td>96</td>\n",
              "      <td>71.88</td>\n",
              "    </tr>\n",
              "    <tr>\n",
              "      <th>...</th>\n",
              "      <td>...</td>\n",
              "      <td>...</td>\n",
              "      <td>...</td>\n",
              "      <td>...</td>\n",
              "      <td>...</td>\n",
              "      <td>...</td>\n",
              "      <td>...</td>\n",
              "      <td>...</td>\n",
              "      <td>...</td>\n",
              "    </tr>\n",
              "    <tr>\n",
              "      <th>995</th>\n",
              "      <td>yes</td>\n",
              "      <td>M</td>\n",
              "      <td>2</td>\n",
              "      <td>1</td>\n",
              "      <td>1</td>\n",
              "      <td>9</td>\n",
              "      <td>18</td>\n",
              "      <td>108</td>\n",
              "      <td>64.12</td>\n",
              "    </tr>\n",
              "    <tr>\n",
              "      <th>996</th>\n",
              "      <td>no</td>\n",
              "      <td>M</td>\n",
              "      <td>1</td>\n",
              "      <td>2</td>\n",
              "      <td>2</td>\n",
              "      <td>2</td>\n",
              "      <td>19</td>\n",
              "      <td>109</td>\n",
              "      <td>75.47</td>\n",
              "    </tr>\n",
              "    <tr>\n",
              "      <th>997</th>\n",
              "      <td>yes</td>\n",
              "      <td>M</td>\n",
              "      <td>2</td>\n",
              "      <td>2</td>\n",
              "      <td>1</td>\n",
              "      <td>5</td>\n",
              "      <td>17</td>\n",
              "      <td>123</td>\n",
              "      <td>76.73</td>\n",
              "    </tr>\n",
              "    <tr>\n",
              "      <th>998</th>\n",
              "      <td>yes</td>\n",
              "      <td>F</td>\n",
              "      <td>1</td>\n",
              "      <td>3</td>\n",
              "      <td>3</td>\n",
              "      <td>8</td>\n",
              "      <td>17</td>\n",
              "      <td>104</td>\n",
              "      <td>69.07</td>\n",
              "    </tr>\n",
              "    <tr>\n",
              "      <th>999</th>\n",
              "      <td>yes</td>\n",
              "      <td>M</td>\n",
              "      <td>1</td>\n",
              "      <td>2</td>\n",
              "      <td>2</td>\n",
              "      <td>6</td>\n",
              "      <td>18</td>\n",
              "      <td>128</td>\n",
              "      <td>78.73</td>\n",
              "    </tr>\n",
              "  </tbody>\n",
              "</table>\n",
              "<p>1000 rows × 9 columns</p>\n",
              "</div>"
            ],
            "text/plain": [
              "    internet sex  traveltime  studytime  freetime  absences  age   iq  marks\n",
              "0         no   M           2          2         5         6   18  118  73.13\n",
              "1        yes   M           2          2         2         7   19  107  67.78\n",
              "2        yes   M           3          3         3         5   18  108  70.84\n",
              "3         no   F           3          3         4         9   17  100  66.68\n",
              "4        yes   M           1          4         3         4   19   96  71.88\n",
              "..       ...  ..         ...        ...       ...       ...  ...  ...    ...\n",
              "995      yes   M           2          1         1         9   18  108  64.12\n",
              "996       no   M           1          2         2         2   19  109  75.47\n",
              "997      yes   M           2          2         1         5   17  123  76.73\n",
              "998      yes   F           1          3         3         8   17  104  69.07\n",
              "999      yes   M           1          2         2         6   18  128  78.73\n",
              "\n",
              "[1000 rows x 9 columns]"
            ]
          },
          "metadata": {},
          "output_type": "display_data"
        },
        {
          "data": {
            "text/plain": [
              "(1000, 8)"
            ]
          },
          "metadata": {},
          "output_type": "display_data"
        },
        {
          "data": {
            "text/plain": [
              "array(0.682)"
            ]
          },
          "metadata": {},
          "output_type": "display_data"
        },
        {
          "data": {
            "image/png": "[encoded data removed]",
            "text/plain": [
              "<Figure size 1000x1000 with 1 Axes>"
            ]
          },
          "metadata": {},
          "output_type": "display_data"
        },
        {
          "data": {
            "image/png": "[encoded data removed]",
            "text/plain": [
              "<Figure size 1000x1000 with 1 Axes>"
            ]
          },
          "metadata": {},
          "output_type": "display_data"
        },
        {
          "data": {
            "image/png": "[encoded data removed]",
            "text/plain": [
              "<Figure size 1000x1000 with 1 Axes>"
            ]
          },
          "metadata": {},
          "output_type": "display_data"
        }
      ],
      "source": [
        "# Use the file namd 'training data' to train the model\n",
        "\n",
        "data = pd.read_excel('Training data.xlsx')\n",
        "x_train = np.array(data.iloc[:,0:8])\n",
        "y_train = np.array(data.iloc[:,8]).reshape(-1,1)\n",
        "\n",
        "\n",
        "# Try plotting y_train with different features\n",
        "\n",
        "plt.figure(figsize=(10,10))\n",
        "plt.subplot(3,1,1)\n",
        "plt.bar(data[\"age\"],data[\"marks\"],width=0.4)\n",
        "plt.xlabel(\"age\")\n",
        "plt.ylabel(\"marks\")\n",
        "\n",
        "plt.figure(figsize=(10,10))\n",
        "plt.subplot(3,1,2)\n",
        "plt.scatter(data.where(data[\"sex\"]==\"F\")[\"iq\"],data[\"marks\"],color=\"hotpink\",s=5)\n",
        "plt.scatter(data.where(data[\"sex\"]==\"M\")[\"iq\"],data[\"marks\"],color=\"green\",s=5)\n",
        "plt.xlabel(\"iq\")\n",
        "plt.ylabel(\"marks\")\n",
        "# To get an idea whether to add some features or not\n",
        "plt.figure(figsize=(10,10))\n",
        "plt.subplot(3,1,3)\n",
        "plt.scatter(data[\"internet\"],data[\"freetime\"],color=\"purple\",s=20)\n",
        "plt.scatter(data[\"internet\"],data[\"studytime\"],color=\"yellow\",s=5)\n",
        "plt.xlabel(\"intenet\")\n",
        "plt.ylabel(\"time\")\n",
        "\n",
        "# Add some features if required in x_train\n",
        "\n",
        "\n",
        "# Also do label encoding for features not represented in numbers\n",
        "for i in range(0,1000):\n",
        "   if x_train[i,0] == \"yes\":\n",
        "      x_train[i,0]=1\n",
        "   else:\n",
        "       x_train[i,0]=0\n",
        "\n",
        "   if x_train[i,1] == \"M\":\n",
        "      x_train[i,1]=1\n",
        "   else:\n",
        "       x_train[i,1]=0\n",
        "display(data)\n",
        "display(x_train.shape)\n",
        "\n",
        "display(np.array((x_train[:,0].mean())))\n",
        "def feature_changing(x_train):\n",
        " \n",
        " for i in range(0,x_train.shape[0]):\n",
        "   if x_train[i,0] == \"yes\":\n",
        "      x_train[i,0]=1\n",
        "   elif x_train[i,0] == \"no\":\n",
        "       x_train[i,0]=0\n",
        "\n",
        "   if x_train[i,1] == \"M\":\n",
        "      x_train[i,1]=1\n",
        "   elif x_train[i,1] == \"F\":\n",
        "       x_train[i,1]=0\n",
        " return x_train\n",
        "      \n",
        "\n",
        "x_train = feature_changing(x_train)"
      ]
    },
    {
      "cell_type": "code",
      "execution_count": 7,
      "metadata": {
        "id": "tYshvtYlVour"
      },
      "outputs": [],
      "source": [
        "def z_score(x_train):\n",
        "    x_mean=np.zeros(0)\n",
        "    x_std=np.zeros(0)\n",
        "    for i in range(0,8):\n",
        "        x_mean=np.append(np.array(x_train[:,i].mean()),x_mean)\n",
        "        x_std=np.append(np.array(x_train[:,i].std()),x_std)\n",
        "    x_mean=np.flip(x_mean)\n",
        "    x_std=np.flip(x_std)\n",
        "    x_train = (x_train - x_mean)/x_std\n",
        "    return x_train,x_std,x_mean"
      ]
    },
    {
      "cell_type": "code",
      "execution_count": 8,
      "metadata": {
        "id": "O5dOwbNbWJWa"
      },
      "outputs": [],
      "source": [
        "def cost(x_train,y_train,w,b):\n",
        "   loss=0.0\n",
        "   for i in range(0,1000):\n",
        "     loss =loss+((((y_train[i])- (np.dot(x_train[i],w) + b))**2)/(2*x_train.shape[0]))\n",
        "     \n",
        "   #display(loss)\n",
        "   return loss"
      ]
    },
    {
      "cell_type": "code",
      "execution_count": 9,
      "metadata": {},
      "outputs": [],
      "source": [
        "def derivative(x_train,y_train,w,b):\n",
        "    dj_dw=np.zeros(8)\n",
        "    dj_dw=dj_dw.reshape(8,1)\n",
        "   \n",
        "    for j in range(0,8):\n",
        "        dj_db=0\n",
        "        for i in range(0,1000):\n",
        "            dj_dw[j]=dj_dw[j]+(((np.dot(x_train[i],w)+b-y_train[i])*x_train[i][j])/1000.0)\n",
        "            dj_db=dj_db+((np.dot(x_train[i],w)+b)-y_train[i])/1000.0\n",
        "    #display(dj_dw)\n",
        "    #display(dj_db)\n",
        "    return dj_dw,dj_db\n",
        "\n",
        "def gradient_descent(x_train,y_train,w,b):\n",
        "    dj_dw,dj_db=derivative(x_train,y_train,w,b)\n",
        "    w=w-0.01*dj_dw\n",
        "    b=b-0.01*dj_db\n",
        "    return w,b\n"
      ]
    },
    {
      "cell_type": "code",
      "execution_count": 10,
      "metadata": {
        "id": "Kl-fioJ5WkYn"
      },
      "outputs": [
        {
          "data": {
            "text/plain": [
              "array([[69.92577671]])"
            ]
          },
          "metadata": {},
          "output_type": "display_data"
        },
        {
          "data": {
            "text/plain": [
              "array([[-1.39564892e+00],\n",
              "       [-1.39236898e-03],\n",
              "       [-8.98839410e-01],\n",
              "       [ 3.45958792e+00],\n",
              "       [-1.26802398e+00],\n",
              "       [-1.47619789e+00],\n",
              "       [ 1.63060861e-01],\n",
              "       [ 5.34936757e+00]])"
            ]
          },
          "metadata": {},
          "output_type": "display_data"
        }
      ],
      "source": [
        "x_train = x_train.astype(np.float64)\n",
        "\n",
        "\n",
        "\n",
        "x_train,x_std,x_mean = z_score(x_train)\n",
        "\n",
        "#display(x_mean)\n",
        "np.random.seed(2147483647)\n",
        "w = np.random.randn(x_train.shape[1],1)\n",
        "b = np.random.randn(1,1)\n",
        "#display(w.shape)\n",
        "#display(b)\n",
        "old_cost = 0\n",
        "\n",
        "while (abs(old_cost - cost(x_train,y_train,w,b))>0.00001):\n",
        "  old_cost = cost(x_train,y_train,w,b)\n",
        "  w,b = gradient_descent(x_train,y_train,w,b)\n",
        "\n",
        "x_predict = pd.read_excel('Test data.xlsx').iloc[:,:8].to_numpy()\n",
        "display(b)\n",
        "#display(x_predict)\n",
        "display(w)\n",
        "x_predict = feature_changing(x_predict)\n",
        "#display(x_predict[:10,:])\n",
        "x_predict = (x_predict - x_mean)/x_std\n",
        "ans = pd.read_excel('Test data.xlsx').iloc[:,8].to_numpy()\n",
        "\n",
        "y_predict = np.dot(x_predict,w) + b\n"
      ]
    },
    {
      "cell_type": "code",
      "execution_count": 11,
      "metadata": {},
      "outputs": [
        {
          "name": "stdout",
          "output_type": "stream",
          "text": [
            "Congratulations, your accuracy is 100.00%\n"
          ]
        }
      ],
      "source": [
        "\n",
        "#display(y_predict)\n",
        "#display(ans)\n",
        "#display(len(ans))\n",
        "accuracy = 0\n",
        "for i  in range(len(ans)):\n",
        "  if ((abs(y_predict[i]-ans[i]))<0.05) :# do not change the tolerance as you'll be checked on +- 0.5 error only\n",
        "       accuracy += 1\n",
        "accuracy = round(accuracy*100/200.0,2)\n",
        "ok = 'Congratulations' if accuracy>95 else 'Optimization required'\n",
        "print(f\"{ok}, your accuracy is {accuracy:.2f}%\")"
      ]
    }
  ],
  "metadata": {
    "colab": {
      "provenance": []
    },
    "kernelspec": {
      "display_name": "Python 3",
      "name": "python3"
    },
    "language_info": {
      "codemirror_mode": {
        "name": "ipython",
        "version": 3
      },
      "file_extension": ".py",
      "mimetype": "text/x-python",
      "name": "python",
      "nbconvert_exporter": "python",
      "pygments_lexer": "ipython3",
      "version": "3.12.2"
    }
  },
  "nbformat": 4,
  "nbformat_minor": 0
}
