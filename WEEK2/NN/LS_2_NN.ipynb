{
 "cells": [
  {
   "cell_type": "code",
   "execution_count": 47,
   "metadata": {
    "executionInfo": {
     "elapsed": 593,
     "status": "ok",
     "timestamp": 1720276369873,
     "user": {
      "displayName": "T Roy",
      "userId": "03346487709597720736"
     },
     "user_tz": -330
    },
    "id": "SzqjA6jbG-dW"
   },
   "outputs": [],
   "source": [
    "import tensorflow as tf\n",
    "from tensorflow import keras\n",
    "from tensorflow.keras.layers import Dense,Flatten\n",
    "from tensorflow.keras import Input"
   ]
  },
  {
   "cell_type": "code",
   "execution_count": 48,
   "metadata": {
    "colab": {
     "base_uri": "https://localhost:8080/"
    },
    "executionInfo": {
     "elapsed": 759,
     "status": "ok",
     "timestamp": 1720276507396,
     "user": {
      "displayName": "T Roy",
      "userId": "03346487709597720736"
     },
     "user_tz": -330
    },
    "id": "dWOiYzrqIrvB",
    "outputId": "c9fdf06c-b19e-43f6-8401-f891a79ef62b"
   },
   "outputs": [
    {
     "name": "stdout",
     "output_type": "stream",
     "text": [
      "Found 269 files belonging to 2 classes.\n"
     ]
    }
   ],
   "source": [
    "dataset = tf.keras.preprocessing.image_dataset_from_directory(\"C:/Users/saubh/homer_bart\",image_size=(64, 64),label_mode = \"binary\")"
   ]
  },
  {
   "cell_type": "code",
   "execution_count": 49,
   "metadata": {
    "executionInfo": {
     "elapsed": 5,
     "status": "ok",
     "timestamp": 1720276507912,
     "user": {
      "displayName": "T Roy",
      "userId": "03346487709597720736"
     },
     "user_tz": -330
    },
    "id": "RSasTq5wRgPz"
   },
   "outputs": [],
   "source": [
    "train_data = dataset.take(8)\n",
    "test_data = dataset.skip(8)\n",
    "train_data = train_data.cache().shuffle(1000).prefetch(buffer_size=tf.data.AUTOTUNE)\n",
    "test_data = test_data.cache().shuffle(1000).prefetch(buffer_size=tf.data.AUTOTUNE)"
   ]
  },
  {
   "cell_type": "code",
   "execution_count": 50,
   "metadata": {
    "executionInfo": {
     "elapsed": 3,
     "status": "ok",
     "timestamp": 1720276507913,
     "user": {
      "displayName": "T Roy",
      "userId": "03346487709597720736"
     },
     "user_tz": -330
    },
    "id": "yID91aluk8jG"
   },
   "outputs": [],
   "source": [
    "preprocess = tf.keras.Sequential(\n",
    "    [tf.keras.layers.Rescaling(1.0/255.0)] # rescaling factor\n",
    ")\n",
    "model = tf.keras.Sequential()\n",
    "model.add(Input((64,64,3)))\n",
    "model.add(Flatten())\n",
    "model.add(preprocess)\n",
    "model.add(Dense(256, activation='relu'))\n",
    "model.add(Dense(512, activation='relu'))\n",
    "model.add(Dense(512, activation='relu'))\n",
    "model.add(Dense(1, activation='sigmoid'))\n"
   ]
  },
  {
   "cell_type": "code",
   "execution_count": 51,
   "metadata": {
    "executionInfo": {
     "elapsed": 506,
     "status": "ok",
     "timestamp": 1720276514690,
     "user": {
      "displayName": "T Roy",
      "userId": "03346487709597720736"
     },
     "user_tz": -330
    },
    "id": "n8IzestGlVwX"
   },
   "outputs": [],
   "source": [
    "model.compile(optimizer=keras.optimizers.Adam(),\n",
    "              loss = tf.keras.losses.BinaryCrossentropy(from_logits=False), # use tf.keras.losses._______(from_logits = False)  \n",
    "              metrics = ['accuracy'])"
   ]
  },
  {
   "cell_type": "code",
   "execution_count": 52,
   "metadata": {
    "colab": {
     "base_uri": "https://localhost:8080/"
    },
    "executionInfo": {
     "elapsed": 6562,
     "status": "ok",
     "timestamp": 1720276521246,
     "user": {
      "displayName": "T Roy",
      "userId": "03346487709597720736"
     },
     "user_tz": -330
    },
    "id": "MUX7le0zrNKo",
    "outputId": "9f1a778c-d309-4384-fe24-5f2f60fc7d0a"
   },
   "outputs": [
    {
     "name": "stdout",
     "output_type": "stream",
     "text": [
      "Epoch 1/30\n",
      "8/8 - 1s - 185ms/step - accuracy: 0.5156 - loss: 4.5555 - val_accuracy: 0.3077 - val_loss: 2.1440\n",
      "Epoch 2/30\n",
      "8/8 - 0s - 19ms/step - accuracy: 0.5703 - loss: 1.0852 - val_accuracy: 0.6923 - val_loss: 0.5791\n",
      "Epoch 3/30\n",
      "8/8 - 0s - 19ms/step - accuracy: 0.6328 - loss: 0.6913 - val_accuracy: 0.6923 - val_loss: 0.5256\n",
      "Epoch 4/30\n",
      "8/8 - 0s - 18ms/step - accuracy: 0.5781 - loss: 0.7252 - val_accuracy: 0.5385 - val_loss: 0.8414\n",
      "Epoch 5/30\n",
      "8/8 - 0s - 19ms/step - accuracy: 0.7305 - loss: 0.5330 - val_accuracy: 0.7692 - val_loss: 0.5087\n",
      "Epoch 6/30\n",
      "8/8 - 0s - 19ms/step - accuracy: 0.7461 - loss: 0.5309 - val_accuracy: 0.7692 - val_loss: 0.4586\n",
      "Epoch 7/30\n",
      "8/8 - 0s - 18ms/step - accuracy: 0.8086 - loss: 0.4445 - val_accuracy: 0.7692 - val_loss: 0.4473\n",
      "Epoch 8/30\n",
      "8/8 - 0s - 18ms/step - accuracy: 0.7930 - loss: 0.4034 - val_accuracy: 0.8462 - val_loss: 0.3670\n",
      "Epoch 9/30\n",
      "8/8 - 0s - 18ms/step - accuracy: 0.7891 - loss: 0.4441 - val_accuracy: 0.5385 - val_loss: 0.8791\n",
      "Epoch 10/30\n",
      "8/8 - 0s - 18ms/step - accuracy: 0.7344 - loss: 0.5113 - val_accuracy: 0.8462 - val_loss: 0.4032\n",
      "Epoch 11/30\n",
      "8/8 - 0s - 18ms/step - accuracy: 0.8477 - loss: 0.3275 - val_accuracy: 0.6923 - val_loss: 0.6676\n",
      "Epoch 12/30\n",
      "8/8 - 0s - 19ms/step - accuracy: 0.7812 - loss: 0.4502 - val_accuracy: 0.8462 - val_loss: 0.3437\n",
      "Epoch 13/30\n",
      "8/8 - 0s - 18ms/step - accuracy: 0.8203 - loss: 0.3739 - val_accuracy: 0.9231 - val_loss: 0.2989\n",
      "Epoch 14/30\n",
      "8/8 - 0s - 18ms/step - accuracy: 0.9219 - loss: 0.2320 - val_accuracy: 0.6154 - val_loss: 0.7357\n",
      "Epoch 15/30\n",
      "8/8 - 0s - 18ms/step - accuracy: 0.8906 - loss: 0.2633 - val_accuracy: 0.9231 - val_loss: 0.1730\n",
      "Epoch 16/30\n",
      "8/8 - 0s - 18ms/step - accuracy: 0.8984 - loss: 0.2378 - val_accuracy: 0.9231 - val_loss: 0.2012\n",
      "Epoch 17/30\n",
      "8/8 - 0s - 18ms/step - accuracy: 0.9102 - loss: 0.2329 - val_accuracy: 0.6923 - val_loss: 0.8793\n",
      "Epoch 18/30\n",
      "8/8 - 0s - 19ms/step - accuracy: 0.8516 - loss: 0.2991 - val_accuracy: 0.7692 - val_loss: 0.3799\n",
      "Epoch 19/30\n",
      "8/8 - 0s - 19ms/step - accuracy: 0.9531 - loss: 0.1603 - val_accuracy: 0.9231 - val_loss: 0.1447\n",
      "Epoch 20/30\n",
      "8/8 - 0s - 20ms/step - accuracy: 0.9336 - loss: 0.1358 - val_accuracy: 1.0000 - val_loss: 0.1060\n",
      "Epoch 21/30\n",
      "8/8 - 0s - 19ms/step - accuracy: 0.8555 - loss: 0.2822 - val_accuracy: 0.4615 - val_loss: 2.2052\n",
      "Epoch 22/30\n",
      "8/8 - 0s - 18ms/step - accuracy: 0.7109 - loss: 0.8219 - val_accuracy: 0.7692 - val_loss: 0.4067\n",
      "Epoch 23/30\n",
      "8/8 - 0s - 18ms/step - accuracy: 0.8281 - loss: 0.3154 - val_accuracy: 0.9231 - val_loss: 0.2602\n",
      "Epoch 24/30\n",
      "8/8 - 0s - 19ms/step - accuracy: 0.9414 - loss: 0.1543 - val_accuracy: 0.9231 - val_loss: 0.1344\n",
      "Epoch 25/30\n",
      "8/8 - 0s - 19ms/step - accuracy: 0.9102 - loss: 0.2380 - val_accuracy: 0.7692 - val_loss: 0.4827\n",
      "Epoch 26/30\n",
      "8/8 - 0s - 19ms/step - accuracy: 0.9453 - loss: 0.1357 - val_accuracy: 0.9231 - val_loss: 0.1330\n",
      "Epoch 27/30\n",
      "8/8 - 0s - 19ms/step - accuracy: 0.9883 - loss: 0.0570 - val_accuracy: 1.0000 - val_loss: 0.0814\n",
      "Epoch 28/30\n",
      "8/8 - 0s - 20ms/step - accuracy: 0.9961 - loss: 0.0310 - val_accuracy: 1.0000 - val_loss: 0.0630\n",
      "Epoch 29/30\n",
      "8/8 - 0s - 19ms/step - accuracy: 0.9922 - loss: 0.0368 - val_accuracy: 0.9231 - val_loss: 0.1089\n",
      "Epoch 30/30\n",
      "8/8 - 0s - 18ms/step - accuracy: 0.9961 - loss: 0.0252 - val_accuracy: 1.0000 - val_loss: 0.0324\n"
     ]
    },
    {
     "data": {
      "text/plain": [
       "<keras.src.callbacks.history.History at 0x1d88f57f6e0>"
      ]
     },
     "execution_count": 52,
     "metadata": {},
     "output_type": "execute_result"
    }
   ],
   "source": [
    "model.fit(train_data,\n",
    "          epochs = 30,\n",
    "          batch_size = 32,\n",
    "          verbose=2,\n",
    "          validation_data = test_data)"
   ]
  }
 ],
 "metadata": {
  "accelerator": "GPU",
  "colab": {
   "authorship_tag": "ABX9TyOJKT1vvaSEPBbFKaqp78uD",
   "gpuType": "T4",
   "provenance": []
  },
  "kernelspec": {
   "display_name": "Python 3 (ipykernel)",
   "language": "python",
   "name": "python3"
  },
  "language_info": {
   "codemirror_mode": {
    "name": "ipython",
    "version": 3
   },
   "file_extension": ".py",
   "mimetype": "text/x-python",
   "name": "python",
   "nbconvert_exporter": "python",
   "pygments_lexer": "ipython3",
   "version": "3.12.2"
  }
 },
 "nbformat": 4,
 "nbformat_minor": 4
}
